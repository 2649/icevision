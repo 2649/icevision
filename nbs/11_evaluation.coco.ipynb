{
 "cells": [
  {
   "cell_type": "code",
   "execution_count": null,
   "metadata": {},
   "outputs": [],
   "source": [
    "#default_exp evaluation.coco"
   ]
  },
  {
   "cell_type": "markdown",
   "metadata": {},
   "source": [
    "<h1>Table of Contents<span class=\"tocSkip\"></span></h1>\n",
    "<div class=\"toc\"><ul class=\"toc-item\"><li><span><a href=\"#COCO-evaluation\" data-toc-modified-id=\"COCO-evaluation-1\"><span class=\"toc-item-num\">1&nbsp;&nbsp;</span>COCO evaluation</a></span><ul class=\"toc-item\"><li><span><a href=\"#COCO-conversion\" data-toc-modified-id=\"COCO-conversion-1.1\"><span class=\"toc-item-num\">1.1&nbsp;&nbsp;</span>COCO conversion</a></span></li><li><span><a href=\"#COCO-evaluator\" data-toc-modified-id=\"COCO-evaluator-1.2\"><span class=\"toc-item-num\">1.2&nbsp;&nbsp;</span>COCO evaluator</a></span></li></ul></li><li><span><a href=\"#Export\" data-toc-modified-id=\"Export-2\"><span class=\"toc-item-num\">2&nbsp;&nbsp;</span>Export</a></span></li></ul></div>"
   ]
  },
  {
   "cell_type": "markdown",
   "metadata": {},
   "source": [
    "# COCO evaluation\n",
    "> Mostly copied from pytoch"
   ]
  },
  {
   "cell_type": "code",
   "execution_count": null,
   "metadata": {},
   "outputs": [],
   "source": [
    "#export\n",
    "from mantisshrimp.imports import *\n",
    "from mantisshrimp.core import *\n",
    "from mantisshrimp.evaluation.coco_eval import CocoEvaluator\n",
    "from pycocotools.coco import COCO"
   ]
  },
  {
   "cell_type": "markdown",
   "metadata": {},
   "source": [
    "## COCO conversion"
   ]
  },
  {
   "cell_type": "code",
   "execution_count": null,
   "metadata": {},
   "outputs": [],
   "source": [
    "#export\n",
    "def records2coco(records, id2cat):\n",
    "    cats = [{'id':k, 'name':v} for k,v in id2cat.items()]\n",
    "    annots = defaultdict(list)\n",
    "    iinfos = []\n",
    "    i = 0\n",
    "    for r in tqdm(records):\n",
    "        iinfos.append({\n",
    "            'id': r.iinfo.iid,\n",
    "            'file_name': r.iinfo.fp.name,\n",
    "            'width': r.iinfo.w,\n",
    "            'height': r.iinfo.h,\n",
    "        })\n",
    "        for annot in r.annot: \n",
    "            annots['id'].append(i) # TODO: Careful with ids! when over all dataset\n",
    "            annots['image_id'].append(r.iinfo.iid)\n",
    "            annots['category_id'].append(annot.oid)\n",
    "            annots['bbox'].append(annot.bbox.pnts)\n",
    "            annots['area'].append(annot.bbox.area)\n",
    "            # TODO: for other types of masks\n",
    "            if notnone(annot.seg): annots['segmentation'].extend(annot.seg.to_erle(r.iinfo.h, r.iinfo.w))\n",
    "            annots['iscrowd'].append(annot.iscrowd)\n",
    "            # TODO: Keypoints\n",
    "            i += 1\n",
    "    assert allequal(lmap(len, annots.values())), 'Mismatch lenght of elements'\n",
    "    annots = [{k:v[i] for k,v in annots.items()} for i in range_of(annots['id'])]\n",
    "    return {'images': iinfos, 'annotations': annots, 'categories': cats}"
   ]
  },
  {
   "cell_type": "code",
   "execution_count": null,
   "metadata": {},
   "outputs": [],
   "source": [
    "#export\n",
    "def coco_api_from_records(records, id2cat):\n",
    "    coco_ds = COCO()\n",
    "    coco_ds.dataset = records2coco(records, id2cat)\n",
    "    coco_ds.createIndex()\n",
    "    return coco_ds"
   ]
  },
  {
   "cell_type": "markdown",
   "metadata": {},
   "source": [
    "## COCO evaluator"
   ]
  },
  {
   "cell_type": "code",
   "execution_count": null,
   "metadata": {},
   "outputs": [],
   "source": [
    "#export\n",
    "def _get_iou_types(model):\n",
    "    model_without_ddp = model\n",
    "    if isinstance(model, torch.nn.parallel.DistributedDataParallel):\n",
    "        model_without_ddp = model.module\n",
    "    iou_types = [\"bbox\"]\n",
    "    if isinstance(model_without_ddp, torchvision.models.detection.MaskRCNN):\n",
    "        iou_types.append(\"segm\")\n",
    "    if isinstance(model_without_ddp, torchvision.models.detection.KeypointRCNN):\n",
    "        iou_types.append(\"keypoints\")\n",
    "    return iou_types"
   ]
  },
  {
   "cell_type": "code",
   "execution_count": null,
   "metadata": {},
   "outputs": [],
   "source": [
    "#export\n",
    "def COCOEvaluator(model, coco_ds):\n",
    "    return CocoEvaluator(coco_ds, _get_iou_types(model))"
   ]
  },
  {
   "cell_type": "markdown",
   "metadata": {},
   "source": [
    "# Export"
   ]
  },
  {
   "cell_type": "code",
   "execution_count": null,
   "metadata": {},
   "outputs": [
    {
     "name": "stdout",
     "output_type": "stream",
     "text": [
      "Converted 00_core.ipynb.\n",
      "Converted 02_data.core.ipynb.\n",
      "Converted 04_data.annotations.ipynb.\n",
      "Converted 06_transforms.ipynb.\n",
      "Converted 07_data.load.ipynb.\n",
      "Converted 08_models.ipynb.\n",
      "Converted 11_evaluation.coco.ipynb.\n",
      "Converted Untitled.ipynb.\n",
      "Converted Untitled1.ipynb.\n",
      "Converted index.ipynb.\n"
     ]
    }
   ],
   "source": [
    "from nbdev.export import notebook2script\n",
    "notebook2script()"
   ]
  }
 ],
 "metadata": {
  "kernelspec": {
   "display_name": "Python 3",
   "language": "python",
   "name": "python3"
  }
 },
 "nbformat": 4,
 "nbformat_minor": 4
}
