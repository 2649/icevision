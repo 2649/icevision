{
 "cells": [
  {
   "cell_type": "markdown",
   "metadata": {},
   "source": [
    "<h1>Table of Contents<span class=\"tocSkip\"></span></h1>\n",
    "<div class=\"toc\"><ul class=\"toc-item\"><li><span><a href=\"#MantisShrimp\" data-toc-modified-id=\"MantisShrimp-1\"><span class=\"toc-item-num\">1&nbsp;&nbsp;</span>MantisShrimp</a></span><ul class=\"toc-item\"><li><span><a href=\"#Install\" data-toc-modified-id=\"Install-1.1\"><span class=\"toc-item-num\">1.1&nbsp;&nbsp;</span>Install</a></span></li><li><span><a href=\"#How-to-use\" data-toc-modified-id=\"How-to-use-1.2\"><span class=\"toc-item-num\">1.2&nbsp;&nbsp;</span>How to use</a></span></li></ul></li></ul></div>"
   ]
  },
  {
   "cell_type": "markdown",
   "metadata": {},
   "source": [
    "# MantisShrimp\n",
    "\n",
    "> Built on top of [pytorch-lightining](https://github.com/PyTorchLightning/pytorch-lightning), `MantisShrimp` is an object detection framework focused on application."
   ]
  },
  {
   "cell_type": "markdown",
   "metadata": {},
   "source": [
    "MantisShrimp is in very early development, all contributions are welcome!\n",
    "\n",
    "Be sure to check the `issues` board =)"
   ]
  },
  {
   "cell_type": "markdown",
   "metadata": {},
   "source": [
    "## Install"
   ]
  },
  {
   "cell_type": "markdown",
   "metadata": {},
   "source": [
    "```python\n",
    "pip install -U 'git+https://github.com/cocodataset/cocoapi.git#subdirectory=PythonAPI'\n",
    "pip install mantisshrimp\n",
    "```"
   ]
  },
  {
   "cell_type": "markdown",
   "metadata": {},
   "source": [
    "## How to use"
   ]
  },
  {
   "cell_type": "markdown",
   "metadata": {},
   "source": [
    "Check the `examples` folder for a ton of usage cases. It should be very easy to get started."
   ]
  },
  {
   "cell_type": "code",
   "execution_count": null,
   "metadata": {},
   "outputs": [],
   "source": []
  }
 ],
 "metadata": {
  "kernelspec": {
   "display_name": "Python 3",
   "language": "python",
   "name": "python3"
  }
 },
 "nbformat": 4,
 "nbformat_minor": 2
}
