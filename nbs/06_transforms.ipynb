{
 "cells": [
  {
   "cell_type": "code",
   "execution_count": null,
   "metadata": {},
   "outputs": [],
   "source": [
    "#default_exp transforms"
   ]
  },
  {
   "cell_type": "code",
   "execution_count": null,
   "metadata": {},
   "outputs": [],
   "source": [
    "#export\n",
    "from mantisshrimp.imports import *\n",
    "from mantisshrimp.core import *\n",
    "from mantisshrimp.data.all import *"
   ]
  },
  {
   "cell_type": "markdown",
   "metadata": {},
   "source": [
    "# Transform\n",
    "> Trasformers"
   ]
  },
  {
   "cell_type": "code",
   "execution_count": null,
   "metadata": {},
   "outputs": [],
   "source": [
    "#export\n",
    "class Transformer:\n",
    "    def __init__(self, tfms): self.tfms=tfms\n",
    "    def __call__(self, record): return self.apply(record)"
   ]
  },
  {
   "cell_type": "code",
   "execution_count": null,
   "metadata": {},
   "outputs": [],
   "source": [
    "#export\n",
    "class EmptyTransformer(Transformer):\n",
    "    def __init__(self, tfms=None): super().__init__(tfms=tfms)\n",
    "    def apply(self, record):\n",
    "        im = open_img(record.iinfo.fp)\n",
    "        return im, record"
   ]
  },
  {
   "cell_type": "code",
   "execution_count": null,
   "metadata": {},
   "outputs": [],
   "source": [
    "#export\n",
    "class AlbumentationTransformer(Transformer):\n",
    "    def __init__(self, tfms):\n",
    "        self.bbox_params=A.BboxParams(format='pascal_voc', label_fields=['oids'])\n",
    "        super().__init__(tfms=A.Compose(tfms, bbox_params=self.bbox_params))\n",
    "    \n",
    "    def apply(self, record):\n",
    "        d = self.tfms(\n",
    "            image = open_img(record.iinfo.fp),\n",
    "            bboxes = [o.xyxy for o in record.annot.bboxes],\n",
    "            masks = Mask.from_segs(record.annot.segs, record.iinfo.h, record.iinfo.w).data,\n",
    "            oids = record.annot.oids,\n",
    "            keypoints = record.annot.kpts,\n",
    "        )\n",
    "        # TODO: Don't use dicts\n",
    "        h,w,_ = d['image'].shape\n",
    "        iinfo = dict(h=h, w=w)\n",
    "        annot = dict(\n",
    "            oids=d['oids'],\n",
    "            bboxes=[BBox.from_xyxy(*o) for o in d['bboxes']] if notnone(d['bboxes']) else None,\n",
    "            segs=Mask(np.stack(d['masks'])) if notnone(d['masks']) else None,\n",
    "        #     kpts=res['keypoints'] # TODO\n",
    "        )\n",
    "        return d['image'], record.new(iinfo=iinfo, annot=annot)"
   ]
  },
  {
   "cell_type": "markdown",
   "metadata": {},
   "source": [
    "## Export -"
   ]
  },
  {
   "cell_type": "code",
   "execution_count": null,
   "metadata": {},
   "outputs": [
    {
     "name": "stdout",
     "output_type": "stream",
     "text": [
      "Converted 00_core.ipynb.\n",
      "Converted 02_data.core.ipynb.\n",
      "Converted 04_data.annotations.ipynb.\n",
      "Converted 06_transforms.ipynb.\n",
      "Converted 07_data.load.ipynb.\n",
      "Converted 08_models.ipynb.\n",
      "Converted Untitled.ipynb.\n",
      "Converted Untitled1.ipynb.\n",
      "Converted index.ipynb.\n"
     ]
    }
   ],
   "source": [
    "from nbdev.export import notebook2script\n",
    "notebook2script()"
   ]
  }
 ],
 "metadata": {
  "kernelspec": {
   "display_name": "Python 3",
   "language": "python",
   "name": "python3"
  }
 },
 "nbformat": 4,
 "nbformat_minor": 4
}
