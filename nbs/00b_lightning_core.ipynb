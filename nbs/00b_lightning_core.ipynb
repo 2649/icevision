{
 "cells": [
  {
   "cell_type": "code",
   "execution_count": null,
   "metadata": {},
   "outputs": [],
   "source": [
    "#default_exp lightning_core"
   ]
  },
  {
   "cell_type": "markdown",
   "metadata": {},
   "source": [
    "<h1>Table of Contents<span class=\"tocSkip\"></span></h1>\n",
    "<div class=\"toc\"><ul class=\"toc-item\"><li><span><a href=\"#Lightning-core\" data-toc-modified-id=\"Lightning-core-1\"><span class=\"toc-item-num\">1&nbsp;&nbsp;</span>Lightning core</a></span></li><li><span><a href=\"#Export\" data-toc-modified-id=\"Export-2\"><span class=\"toc-item-num\">2&nbsp;&nbsp;</span>Export</a></span></li></ul></div>"
   ]
  },
  {
   "cell_type": "markdown",
   "metadata": {},
   "source": [
    "# Lightning core\n",
    "> Patches for pytorch-lightning"
   ]
  },
  {
   "cell_type": "code",
   "execution_count": null,
   "metadata": {},
   "outputs": [],
   "source": [
    "#export\n",
    "from mantisshrimp.imports import *\n",
    "from mantisshrimp.core import *\n",
    "from pytorch_lightning.trainer.lr_finder import _LRFinder"
   ]
  },
  {
   "cell_type": "code",
   "execution_count": null,
   "metadata": {},
   "outputs": [],
   "source": [
    "#export\n",
    "old_lrfinder_plot = _LRFinder.plot\n",
    "@patch\n",
    "def plot(self:_LRFinder, skip_start=5, skip_end=5, suggest=False, show=False):\n",
    "    old = self.results\n",
    "    self.results = {k:v[skip_start:-skip_end] for k,v in old.items()}\n",
    "    res = old_lrfinder_plot(self, suggest=suggest, show=show)\n",
    "    self.results = old\n",
    "    return res"
   ]
  },
  {
   "cell_type": "markdown",
   "metadata": {},
   "source": [
    "# Export"
   ]
  },
  {
   "cell_type": "code",
   "execution_count": null,
   "metadata": {},
   "outputs": [
    {
     "name": "stdout",
     "output_type": "stream",
     "text": [
      "Converted 00a_core.ipynb.\n",
      "Converted 00b_lightning_core.ipynb.\n",
      "Converted 01_layers.ipynb.\n",
      "Converted 02_data.core.ipynb.\n",
      "Converted 04_data.annotations.ipynb.\n",
      "Converted 06_data.load.ipynb.\n",
      "Converted 07_transforms.ipynb.\n",
      "Converted 08_models.ipynb.\n",
      "Converted 09_learner.ipynb.\n",
      "Converted 11_metrics.core.ipynb.\n",
      "Converted Untitled.ipynb.\n",
      "Converted Untitled1.ipynb.\n",
      "Converted data_refactor.ipynb.\n",
      "Converted index.ipynb.\n"
     ]
    }
   ],
   "source": [
    "from nbdev.export import notebook2script\n",
    "notebook2script()"
   ]
  }
 ],
 "metadata": {
  "kernelspec": {
   "display_name": "Python 3",
   "language": "python",
   "name": "python3"
  }
 },
 "nbformat": 4,
 "nbformat_minor": 4
}
