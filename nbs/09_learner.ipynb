{
 "cells": [
  {
   "cell_type": "code",
   "execution_count": null,
   "metadata": {},
   "outputs": [],
   "source": [
    "#default_exp learner"
   ]
  },
  {
   "cell_type": "code",
   "execution_count": null,
   "metadata": {},
   "outputs": [],
   "source": [
    "#export\n",
    "from mantisshrimp.imports import *\n",
    "from mantisshrimp.core import *\n",
    "from mantisshrimp.models import *"
   ]
  },
  {
   "cell_type": "markdown",
   "metadata": {},
   "source": [
    "<h1>Table of Contents<span class=\"tocSkip\"></span></h1>\n",
    "<div class=\"toc\"><ul class=\"toc-item\"><li><span><a href=\"#Learner\" data-toc-modified-id=\"Learner-1\"><span class=\"toc-item-num\">1&nbsp;&nbsp;</span>Learner</a></span><ul class=\"toc-item\"><li><span><a href=\"#Core\" data-toc-modified-id=\"Core-1.1\"><span class=\"toc-item-num\">1.1&nbsp;&nbsp;</span>Core</a></span></li><li><span><a href=\"#Visualize\" data-toc-modified-id=\"Visualize-1.2\"><span class=\"toc-item-num\">1.2&nbsp;&nbsp;</span>Visualize</a></span></li></ul></li><li><span><a href=\"#Export\" data-toc-modified-id=\"Export-2\"><span class=\"toc-item-num\">2&nbsp;&nbsp;</span>Export</a></span></li></ul></div>"
   ]
  },
  {
   "cell_type": "markdown",
   "metadata": {},
   "source": [
    "# Learner\n",
    "> Definition of the learner class."
   ]
  },
  {
   "cell_type": "markdown",
   "metadata": {},
   "source": [
    "## Core"
   ]
  },
  {
   "cell_type": "code",
   "execution_count": null,
   "metadata": {},
   "outputs": [],
   "source": [
    "#export\n",
    "class Learner:\n",
    "    def __init__(self, m, train_dl, valid_dl, opt_fn, logger=None):\n",
    "        store_attr(self, 'm,train_dl,valid_dl,opt_fn')\n",
    "        self.logger = logger or True\n",
    "        self.gpus = get_all_available_gpus()\n",
    "        \n",
    "    @delegates(Trainer.__init__)\n",
    "    def fit(self, max_epochs, lr, lr_sched_fn=None, gpus=None, callbacks=None, **kwargs):\n",
    "        self.m.prepare_optimizers(self.opt_fn, lr, sched_fn=lr_sched_fn)\n",
    "        gpus = ifnone(gpus, self.gpus)\n",
    "        cbs = L(LearningRateLogger()) + L(callbacks)\n",
    "        trainer = Trainer(max_epochs=max_epochs, logger=self.logger, callbacks=cbs,  gpus=gpus, **kwargs)\n",
    "        trainer.fit(self.m, self.train_dl, self.valid_dl)\n",
    "        \n",
    "    @delegates(Trainer.__init__)\n",
    "    def fit_one_cycle(self, max_epochs, lr_max, pct_start=.25, **kwargs):\n",
    "        def lr_sched_fn(opt):\n",
    "            lrs = self.m.get_lrs(lr_max)\n",
    "            sched = OneCycleLR(opt, lrs, len(self.train_dl)*max_epochs, pct_start=pct_start)\n",
    "            return {'scheduler':sched, 'interval':'step'}\n",
    "        return self.fit(max_epochs=max_epochs, lr=lr_max, lr_sched_fn=lr_sched_fn, **kwargs)\n",
    "        \n",
    "    @delegates(Trainer.__init__)\n",
    "    def lr_find(self, gpus=None, **kwargs):\n",
    "        self.m.configure_optimizers = self._configure_optimizers(0, None)\n",
    "        gpus = ifnone(gpus, self.gpus)\n",
    "        return Trainer(gpus=gpus, **kwargs).lr_find(self.m, self.train_dl, self.valid_dl)"
   ]
  },
  {
   "cell_type": "markdown",
   "metadata": {},
   "source": [
    "## Visualize"
   ]
  },
  {
   "cell_type": "code",
   "execution_count": null,
   "metadata": {},
   "outputs": [],
   "source": [
    "#export\n",
    "@patch\n",
    "def show_results(self:Learner, k=5):\n",
    "    rs = random.choices(self.valid_dl.dataset.records, k=k)\n",
    "    show_preds(*self.m.predict(rs=rs))"
   ]
  },
  {
   "cell_type": "markdown",
   "metadata": {},
   "source": [
    "# Export"
   ]
  },
  {
   "cell_type": "code",
   "execution_count": null,
   "metadata": {},
   "outputs": [
    {
     "name": "stdout",
     "output_type": "stream",
     "text": [
      "Converted 00a_core.ipynb.\n",
      "Converted 00b_lightning_core.ipynb.\n",
      "Converted 01_layers.ipynb.\n",
      "Converted 02_data.core.ipynb.\n",
      "Converted 04_data.annotations.ipynb.\n",
      "Converted 06_data.load.ipynb.\n",
      "Converted 07_transforms.ipynb.\n",
      "Converted 08_models.ipynb.\n",
      "Converted 09_learner.ipynb.\n",
      "Converted 11_metrics.core.ipynb.\n",
      "Converted Untitled.ipynb.\n",
      "Converted Untitled1.ipynb.\n",
      "Converted data_refactor.ipynb.\n",
      "Converted index.ipynb.\n"
     ]
    }
   ],
   "source": [
    "from nbdev.export import notebook2script\n",
    "notebook2script()"
   ]
  }
 ],
 "metadata": {
  "kernelspec": {
   "display_name": "Python 3",
   "language": "python",
   "name": "python3"
  }
 },
 "nbformat": 4,
 "nbformat_minor": 4
}
