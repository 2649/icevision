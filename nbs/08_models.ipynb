{
 "cells": [
  {
   "cell_type": "markdown",
   "metadata": {},
   "source": [
    "<h1>Table of Contents<span class=\"tocSkip\"></span></h1>\n",
    "<div class=\"toc\"><ul class=\"toc-item\"><li><span><a href=\"#Models\" data-toc-modified-id=\"Models-1\"><span class=\"toc-item-num\">1&nbsp;&nbsp;</span>Models</a></span><ul class=\"toc-item\"><li><span><a href=\"#Predict\" data-toc-modified-id=\"Predict-1.1\"><span class=\"toc-item-num\">1.1&nbsp;&nbsp;</span>Predict</a></span></li><li><span><a href=\"#Visualize\" data-toc-modified-id=\"Visualize-1.2\"><span class=\"toc-item-num\">1.2&nbsp;&nbsp;</span>Visualize</a></span></li></ul></li><li><span><a href=\"#Export\" data-toc-modified-id=\"Export-2\"><span class=\"toc-item-num\">2&nbsp;&nbsp;</span>Export</a></span></li></ul></div>"
   ]
  },
  {
   "cell_type": "markdown",
   "metadata": {},
   "source": [
    "<h1>Table of Contents<span class=\"tocSkip\"></span></h1>\n",
    "<div class=\"toc\"><ul class=\"toc-item\"><li><span><a href=\"#Models\" data-toc-modified-id=\"Models-1\"><span class=\"toc-item-num\">1&nbsp;&nbsp;</span>Models</a></span><ul class=\"toc-item\"><li><span><a href=\"#Predict\" data-toc-modified-id=\"Predict-1.1\"><span class=\"toc-item-num\">1.1&nbsp;&nbsp;</span>Predict</a></span></li><li><span><a href=\"#Visualize\" data-toc-modified-id=\"Visualize-1.2\"><span class=\"toc-item-num\">1.2&nbsp;&nbsp;</span>Visualize</a></span></li></ul></li><li><span><a href=\"#Export\" data-toc-modified-id=\"Export-2\"><span class=\"toc-item-num\">2&nbsp;&nbsp;</span>Export</a></span></li></ul></div>"
   ]
  },
  {
   "cell_type": "code",
   "execution_count": null,
   "metadata": {},
   "outputs": [],
   "source": [
    "#default_exp models"
   ]
  },
  {
   "cell_type": "code",
   "execution_count": null,
   "metadata": {},
   "outputs": [],
   "source": [
    "#export\n",
    "from mantisshrimp.imports import *\n",
    "from mantisshrimp.core import *\n",
    "from mantisshrimp.data.all import *"
   ]
  },
  {
   "cell_type": "markdown",
   "metadata": {},
   "source": [
    "<h1>Table of Contents<span class=\"tocSkip\"></span></h1>\n",
    "<div class=\"toc\"><ul class=\"toc-item\"><li><span><a href=\"#Models\" data-toc-modified-id=\"Models-1\"><span class=\"toc-item-num\">1&nbsp;&nbsp;</span>Models</a></span><ul class=\"toc-item\"><li><span><a href=\"#Predict\" data-toc-modified-id=\"Predict-1.1\"><span class=\"toc-item-num\">1.1&nbsp;&nbsp;</span>Predict</a></span></li><li><span><a href=\"#Visualize\" data-toc-modified-id=\"Visualize-1.2\"><span class=\"toc-item-num\">1.2&nbsp;&nbsp;</span>Visualize</a></span></li></ul></li><li><span><a href=\"#Export\" data-toc-modified-id=\"Export-2\"><span class=\"toc-item-num\">2&nbsp;&nbsp;</span>Export</a></span></li></ul></div>"
   ]
  },
  {
   "cell_type": "markdown",
   "metadata": {},
   "source": [
    "# Models\n",
    "> Models for object detection"
   ]
  },
  {
   "cell_type": "code",
   "execution_count": null,
   "metadata": {},
   "outputs": [],
   "source": [
    "#export\n",
    "class RCNN(LightningModule):\n",
    "    def __init__(self, metrics=None):\n",
    "        super().__init__()\n",
    "        self.metrics = metrics or []\n",
    "        for metric in self.metrics: metric.register_model(self)\n",
    "        \n",
    "    def training_step(self, b, b_idx):\n",
    "        xb,yb = b\n",
    "        losses = self(xb,list(yb))\n",
    "        loss = sum(losses.values())\n",
    "        log = {'train/loss': loss, **{f'train/{k}':v for k,v in losses.items()}}\n",
    "        return {'loss': loss, 'log': log}\n",
    "    \n",
    "    def validation_step(self, b, b_idx):\n",
    "        xb,yb = b\n",
    "        with torch.no_grad():\n",
    "            self.train(); losses = self(xb,list(yb))\n",
    "            self.eval();  preds = self(xb)\n",
    "        loss = sum(losses.values())\n",
    "        losses = {f'valid/{k}':v for k,v in losses.items()}\n",
    "        res = {}\n",
    "        for metric in self.metrics: \n",
    "            o = metric.step(xb, yb, preds)\n",
    "            if notnone(o): raise NotImplementedError # How to update res?\n",
    "        res.update({'valid/loss': loss, **losses})\n",
    "        return res\n",
    "        \n",
    "    def validation_epoch_end(self, outs):\n",
    "        res = {}\n",
    "        for metric in self.metrics:\n",
    "            o = metric.end(outs)\n",
    "            if notnone(o): raise NotImplementedError # How to update res?\n",
    "        log = {k:torch.stack(v).mean() for k,v in mergeds(outs).items()}\n",
    "        res.update({'val_loss': log['valid/loss'], 'log': log})\n",
    "        return res\n",
    "    \n",
    "    def configure_optimizers(self):\n",
    "        params = [p for p in self.parameters() if p.requires_grad]\n",
    "        opt = torch.optim.Adam(params)\n",
    "        return [opt]"
   ]
  },
  {
   "cell_type": "code",
   "execution_count": null,
   "metadata": {},
   "outputs": [],
   "source": [
    "#export\n",
    "class MantisMaskRCNN(RCNN):\n",
    "    @delegates(MaskRCNN.__init__)\n",
    "    def __init__(self, n_class, h=256, pretrained=True, metrics=None, **kwargs):\n",
    "        super().__init__(metrics=metrics)\n",
    "        self.m = maskrcnn_resnet50_fpn(pretrained=pretrained, **kwargs)\n",
    "        in_features = self.m.roi_heads.box_predictor.cls_score.in_features\n",
    "        self.m.roi_heads.box_predictor = FastRCNNPredictor(in_features, n_class)\n",
    "        in_features_mask = self.m.roi_heads.mask_predictor.conv5_mask.in_channels\n",
    "        self.m.roi_heads.mask_predictor = MaskRCNNPredictor(in_features_mask, h, n_class)\n",
    "    def forward(self, images, targets=None): return self.m(images, targets)"
   ]
  },
  {
   "cell_type": "code",
   "execution_count": null,
   "metadata": {},
   "outputs": [],
   "source": [
    "#export\n",
    "class MantisFasterRCNN(RCNN):\n",
    "    @delegates(FasterRCNN.__init__)\n",
    "    def __init__(self, n_class, h=256, pretrained=True, metrics=None, **kwargs):\n",
    "        super().__init__(metrics=metrics)\n",
    "        self.m = fasterrcnn_resnet50_fpn(pretrained=pretrained, **kwargs)\n",
    "        in_features = self.m.roi_heads.box_predictor.cls_score.in_features\n",
    "        self.m.roi_heads.box_predictor = FastRCNNPredictor(in_features, n_class)\n",
    "    def forward(self, images, targets=None): return self.m(images, targets)"
   ]
  },
  {
   "cell_type": "markdown",
   "metadata": {},
   "source": [
    "## Predict"
   ]
  },
  {
   "cell_type": "code",
   "execution_count": null,
   "metadata": {},
   "outputs": [],
   "source": [
    "#export\n",
    "@patch\n",
    "def predict(self:RCNN, ims=None, rs=None):\n",
    "    if bool(ims)==bool(rs): raise ValueError('You should either pass ims or rs')\n",
    "    if notnone(rs): ims = [open_img(o.iinfo.fp) for o in rs]\n",
    "    xs = [im2tensor(o).to(model_device(self)) for o in ims]\n",
    "    self.eval()\n",
    "    return ims, self(xs)"
   ]
  },
  {
   "cell_type": "markdown",
   "metadata": {},
   "source": [
    "## Visualize"
   ]
  },
  {
   "cell_type": "code",
   "execution_count": null,
   "metadata": {},
   "outputs": [],
   "source": [
    "#export\n",
    "def show_pred(im, pred, mask_thresh=.5, ax=None):\n",
    "    # TODO: Implement mask and keypoint\n",
    "    bboxes,masks,kpts = None,None,None\n",
    "    if 'boxes' in pred: bboxes = [BBox.from_xyxy(*o) for o in pred['boxes']]\n",
    "    if 'masks' in pred: masks = Mask(to_np((pred['masks']>.5).long()[:,0,:,:]))\n",
    "    return show_annot(im, bboxes=bboxes, masks=masks, ax=ax)"
   ]
  },
  {
   "cell_type": "code",
   "execution_count": null,
   "metadata": {},
   "outputs": [],
   "source": [
    "#export\n",
    "def show_preds(ims, preds, mask_thresh=.5):\n",
    "    return grid2([partial(show_pred,im=im,pred=pred,mask_thresh=mask_thresh)\n",
    "                  for im,pred in zip(ims,preds)])"
   ]
  },
  {
   "cell_type": "markdown",
   "metadata": {},
   "source": [
    "# Export"
   ]
  },
  {
   "cell_type": "code",
   "execution_count": null,
   "metadata": {},
   "outputs": [
    {
     "name": "stdout",
     "output_type": "stream",
     "text": [
      "Converted 00_core.ipynb.\n",
      "Converted 01_layers.ipynb.\n",
      "Converted 02_data.core.ipynb.\n",
      "Converted 04_data.annotations.ipynb.\n",
      "Converted 06_data.load.ipynb.\n",
      "Converted 07_transforms.ipynb.\n",
      "Converted 08_models.ipynb.\n",
      "Converted 11_metrics.core.ipynb.\n",
      "Converted Untitled.ipynb.\n",
      "Converted Untitled1.ipynb.\n",
      "Converted data_refactor.ipynb.\n",
      "Converted index.ipynb.\n"
     ]
    }
   ],
   "source": [
    "from nbdev.export import notebook2script\n",
    "notebook2script()"
   ]
  },
  {
   "cell_type": "code",
   "execution_count": null,
   "metadata": {},
   "outputs": [],
   "source": []
  }
 ],
 "metadata": {
  "kernelspec": {
   "display_name": "Python 3",
   "language": "python",
   "name": "python3"
  }
 },
 "nbformat": 4,
 "nbformat_minor": 4
}
