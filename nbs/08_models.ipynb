{
 "cells": [
  {
   "cell_type": "code",
   "execution_count": null,
   "metadata": {},
   "outputs": [],
   "source": [
    "#default_exp models"
   ]
  },
  {
   "cell_type": "code",
   "execution_count": null,
   "metadata": {},
   "outputs": [],
   "source": [
    "#export\n",
    "from mantisshrimp.imports import *"
   ]
  },
  {
   "cell_type": "markdown",
   "metadata": {},
   "source": [
    "<h1>Table of Contents<span class=\"tocSkip\"></span></h1>\n",
    "<div class=\"toc\"><ul class=\"toc-item\"><li><span><a href=\"#Models\" data-toc-modified-id=\"Models-1\"><span class=\"toc-item-num\">1&nbsp;&nbsp;</span>Models</a></span></li><li><span><a href=\"#Export\" data-toc-modified-id=\"Export-2\"><span class=\"toc-item-num\">2&nbsp;&nbsp;</span>Export</a></span></li></ul></div>"
   ]
  },
  {
   "cell_type": "markdown",
   "metadata": {},
   "source": [
    "# Models\n",
    "> Models for object detection"
   ]
  },
  {
   "cell_type": "code",
   "execution_count": null,
   "metadata": {},
   "outputs": [],
   "source": [
    "#export\n",
    "class MaskRCNNModel(LightningModule):\n",
    "    def __init__(self, n_class):\n",
    "        super().__init__()\n",
    "        self.m = self.get_model_instance_segmentation(n_class)\n",
    "        \n",
    "    def forward(self, x): return self.m(x)\n",
    "    \n",
    "    def training_step(self, b, b_idx):\n",
    "        x,y = b\n",
    "        losses = self.m(x,list(y))\n",
    "        loss = sum(losses.values())\n",
    "        return {'loss': loss, 'log': losses}\n",
    "        \n",
    "    def get_model_instance_segmentation(self, n_class, h=256):\n",
    "        model = torchvision.models.detection.maskrcnn_resnet50_fpn(pretrained=True)\n",
    "        in_features = model.roi_heads.box_predictor.cls_score.in_features\n",
    "        model.roi_heads.box_predictor = FastRCNNPredictor(in_features, n_class)\n",
    "        in_features_mask = model.roi_heads.mask_predictor.conv5_mask.in_channels\n",
    "        model.roi_heads.mask_predictor = MaskRCNNPredictor(in_features_mask, h, n_class)\n",
    "        return model\n",
    "    \n",
    "    def configure_optimizers(self):\n",
    "        params = [p for p in self.parameters() if p.requires_grad]\n",
    "        opt = torch.optim.SGD(params, 5e-3, momentum=0.9, weight_decay=0.0005)\n",
    "        step_lr = torch.optim.lr_scheduler.StepLR(opt, step_size=3, gamma=0.1)\n",
    "        return [opt], [step_lr]"
   ]
  },
  {
   "cell_type": "markdown",
   "metadata": {},
   "source": [
    "# Export"
   ]
  },
  {
   "cell_type": "code",
   "execution_count": null,
   "metadata": {},
   "outputs": [
    {
     "name": "stdout",
     "output_type": "stream",
     "text": [
      "Converted 00_core.ipynb.\n",
      "Converted 02_data.core.ipynb.\n",
      "Converted 04_data.annotations.ipynb.\n",
      "Converted 06_transforms.ipynb.\n",
      "Converted 08_models.ipynb.\n",
      "Converted Untitled.ipynb.\n",
      "Converted Untitled1.ipynb.\n",
      "Converted index.ipynb.\n"
     ]
    }
   ],
   "source": [
    "from nbdev.export import notebook2script\n",
    "notebook2script()"
   ]
  }
 ],
 "metadata": {
  "kernelspec": {
   "display_name": "Python 3",
   "language": "python",
   "name": "python3"
  }
 },
 "nbformat": 4,
 "nbformat_minor": 4
}
