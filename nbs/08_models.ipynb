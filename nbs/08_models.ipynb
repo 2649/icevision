{
 "cells": [
  {
   "cell_type": "markdown",
   "metadata": {},
   "source": [
    "<h1>Table of Contents<span class=\"tocSkip\"></span></h1>\n",
    "<div class=\"toc\"><ul class=\"toc-item\"><li><span><a href=\"#Models\" data-toc-modified-id=\"Models-1\"><span class=\"toc-item-num\">1&nbsp;&nbsp;</span>Models</a></span><ul class=\"toc-item\"><li><span><a href=\"#Predict\" data-toc-modified-id=\"Predict-1.1\"><span class=\"toc-item-num\">1.1&nbsp;&nbsp;</span>Predict</a></span></li><li><span><a href=\"#Visualize\" data-toc-modified-id=\"Visualize-1.2\"><span class=\"toc-item-num\">1.2&nbsp;&nbsp;</span>Visualize</a></span></li></ul></li><li><span><a href=\"#Export\" data-toc-modified-id=\"Export-2\"><span class=\"toc-item-num\">2&nbsp;&nbsp;</span>Export</a></span></li></ul></div>"
   ]
  },
  {
   "cell_type": "markdown",
   "metadata": {},
   "source": [
    "<h1>Table of Contents<span class=\"tocSkip\"></span></h1>\n",
    "<div class=\"toc\"><ul class=\"toc-item\"><li><span><a href=\"#Models\" data-toc-modified-id=\"Models-1\"><span class=\"toc-item-num\">1&nbsp;&nbsp;</span>Models</a></span><ul class=\"toc-item\"><li><span><a href=\"#Predict\" data-toc-modified-id=\"Predict-1.1\"><span class=\"toc-item-num\">1.1&nbsp;&nbsp;</span>Predict</a></span></li><li><span><a href=\"#Visualize\" data-toc-modified-id=\"Visualize-1.2\"><span class=\"toc-item-num\">1.2&nbsp;&nbsp;</span>Visualize</a></span></li></ul></li><li><span><a href=\"#Export\" data-toc-modified-id=\"Export-2\"><span class=\"toc-item-num\">2&nbsp;&nbsp;</span>Export</a></span></li></ul></div>"
   ]
  },
  {
   "cell_type": "code",
   "execution_count": null,
   "metadata": {},
   "outputs": [],
   "source": [
    "#default_exp models"
   ]
  },
  {
   "cell_type": "code",
   "execution_count": null,
   "metadata": {},
   "outputs": [],
   "source": [
    "#export\n",
    "from mantisshrimp.imports import *\n",
    "from mantisshrimp.core import *\n",
    "from mantisshrimp.data.all import *"
   ]
  },
  {
   "cell_type": "markdown",
   "metadata": {},
   "source": [
    "<h1>Table of Contents<span class=\"tocSkip\"></span></h1>\n",
    "<div class=\"toc\"><ul class=\"toc-item\"><li><span><a href=\"#Models\" data-toc-modified-id=\"Models-1\"><span class=\"toc-item-num\">1&nbsp;&nbsp;</span>Models</a></span><ul class=\"toc-item\"><li><span><a href=\"#Predict\" data-toc-modified-id=\"Predict-1.1\"><span class=\"toc-item-num\">1.1&nbsp;&nbsp;</span>Predict</a></span></li><li><span><a href=\"#Visualize\" data-toc-modified-id=\"Visualize-1.2\"><span class=\"toc-item-num\">1.2&nbsp;&nbsp;</span>Visualize</a></span></li></ul></li><li><span><a href=\"#Export\" data-toc-modified-id=\"Export-2\"><span class=\"toc-item-num\">2&nbsp;&nbsp;</span>Export</a></span></li></ul></div>"
   ]
  },
  {
   "cell_type": "markdown",
   "metadata": {},
   "source": [
    "# Models\n",
    "> Models for object detection"
   ]
  },
  {
   "cell_type": "code",
   "execution_count": null,
   "metadata": {},
   "outputs": [],
   "source": [
    "#export\n",
    "class RCNN(LightningModule):\n",
    "    def __init__(self, model_splitter=None, metrics=None):\n",
    "        super().__init__()\n",
    "        self.metrics = metrics or []\n",
    "        for metric in self.metrics: metric.register_model(self)\n",
    "        self._create_model()\n",
    "        self.pgs = self._get_pgs()\n",
    "        \n",
    "    def training_step(self, b, b_idx):\n",
    "        xb,yb = b\n",
    "        losses = self(xb,list(yb))\n",
    "        loss = sum(losses.values())\n",
    "        log = {'train/loss': loss, **{f'train/{k}':v for k,v in losses.items()}}\n",
    "        return {'loss': loss, 'log': log}\n",
    "    \n",
    "    def validation_step(self, b, b_idx):\n",
    "        xb,yb = b\n",
    "        with torch.no_grad():\n",
    "            self.train(); losses = self(xb,list(yb))\n",
    "            self.eval();  preds = self(xb)\n",
    "        loss = sum(losses.values())\n",
    "        losses = {f'valid/{k}':v for k,v in losses.items()}\n",
    "        res = {}\n",
    "        for metric in self.metrics: \n",
    "            o = metric.step(xb, yb, preds)\n",
    "            if notnone(o): raise NotImplementedError # How to update res?\n",
    "        res.update({'valid/loss': loss, **losses})\n",
    "        return res\n",
    "        \n",
    "    def validation_epoch_end(self, outs):\n",
    "        res = {}\n",
    "        for metric in self.metrics:\n",
    "            o = metric.end(outs)\n",
    "            if notnone(o): raise NotImplementedError # How to update res?\n",
    "        log = {k:torch.stack(v).mean() for k,v in mergeds(outs).items()}\n",
    "        res.update({'val_loss': log['valid/loss'], 'log': log})\n",
    "        return res\n",
    "    \n",
    "    # TODO: Add error \"First need to call prepare optimizer\"\n",
    "    def configure_optimizers(self): return [self.opt], [self.sched]\n",
    "    def prepare_optimizers(self, opt_func, lr, sched_fn):\n",
    "        self.opt = opt_func(self.get_ps(lr), self.get_lrs(lr)[0])\n",
    "        self.sched = sched_fn(self.opt)\n",
    "        \n",
    "    # TODO: how to be sure all parameters got assigned a lr?\n",
    "    # already safe because of the check on _rcnn_pgs?\n",
    "    def get_ps(self, lr):\n",
    "        lrs = self.get_lrs(lr)\n",
    "        return [{'params':params(pg), 'lr':lr} for pg,lr in zipsafe(self.pgs,lrs)]\n",
    "    \n",
    "    def get_lrs(self, lr): \n",
    "        if isinstance(lr, numbers.Number): return [lr]*len(self.pgs)\n",
    "        elif isinstance(lr, slice): return np.linspace(lr.start, lr.stop, len(self.pgs)).tolist()\n",
    "        else: raise ValueError(f'lr type {type(lr)} not supported, use a number or a slice')"
   ]
  },
  {
   "cell_type": "code",
   "execution_count": null,
   "metadata": {},
   "outputs": [],
   "source": [
    "#export\n",
    "def _rcnn_pgs(m):\n",
    "    body = m.backbone.body\n",
    "    pgs  = []\n",
    "    pgs += [nn.Sequential(body.conv1, body.bn1)]\n",
    "    pgs += [getattr(body,l) for l in list(body) if l.startswith('layer')]\n",
    "    pgs += [m.backbone.fpn, m.rpn, m.roi_heads]\n",
    "    if len(params(nn.Sequential(*pgs))) != len(params(m)):\n",
    "        raise RuntimeError('Malformed model parameters groups, you probably need to use a custom model_splitter')\n",
    "    return pgs"
   ]
  },
  {
   "cell_type": "code",
   "execution_count": null,
   "metadata": {},
   "outputs": [],
   "source": [
    "#export\n",
    "class MantisMaskRCNN(RCNN):\n",
    "    @delegates(MaskRCNN.__init__)\n",
    "    def __init__(self, n_class, h=256, pretrained=True, metrics=None, **kwargs):\n",
    "        store_attr(self, 'n_class,h,pretrained,kwargs')\n",
    "        super().__init__(metrics=metrics)\n",
    "\n",
    "    def forward(self, images, targets=None): return self.m(images, targets)\n",
    "        \n",
    "    def _create_model(self):\n",
    "        self.m = maskrcnn_resnet50_fpn(pretrained=self.pretrained, **self.kwargs)\n",
    "        in_features = self.m.roi_heads.box_predictor.cls_score.in_features\n",
    "        self.m.roi_heads.box_predictor = FastRCNNPredictor(in_features, self.n_class)\n",
    "        in_features_mask = self.m.roi_heads.mask_predictor.conv5_mask.in_channels\n",
    "        self.m.roi_heads.mask_predictor = MaskRCNNPredictor(in_features_mask, self.h, self.n_class)\n",
    "    def _get_pgs(self): return _rcnn_pgs(self.m)"
   ]
  },
  {
   "cell_type": "code",
   "execution_count": null,
   "metadata": {},
   "outputs": [],
   "source": [
    "#export\n",
    "class MantisFasterRCNN(RCNN):\n",
    "    @delegates(FasterRCNN.__init__)\n",
    "    def __init__(self, n_class, h=256, pretrained=True, metrics=None, **kwargs):\n",
    "        store_attr(self, 'n_class,h,pretrained,kwargs')\n",
    "        super().__init__(metrics=metrics)\n",
    "        \n",
    "    def forward(self, images, targets=None): return self.m(images, targets)\n",
    "    \n",
    "    def _create_model(self):\n",
    "        self.m = fasterrcnn_resnet50_fpn(pretrained=pretrained, **kwargs)\n",
    "        in_features = self.m.roi_heads.box_predictor.cls_score.in_features\n",
    "        self.m.roi_heads.box_predictor = FastRCNNPredictor(in_features, self.n_class)\n",
    "    def _get_pgs(self): return _rcnn_pgs(self.m)"
   ]
  },
  {
   "cell_type": "markdown",
   "metadata": {},
   "source": [
    "## Predict"
   ]
  },
  {
   "cell_type": "code",
   "execution_count": null,
   "metadata": {},
   "outputs": [],
   "source": [
    "#export\n",
    "@patch\n",
    "def predict(self:RCNN, ims=None, rs=None):\n",
    "    if bool(ims)==bool(rs): raise ValueError('You should either pass ims or rs')\n",
    "    if notnone(rs): ims = [open_img(o.iinfo.fp) for o in rs]\n",
    "    xs = [im2tensor(o).to(model_device(self)) for o in ims]\n",
    "    self.eval()\n",
    "    return ims, self(xs)"
   ]
  },
  {
   "cell_type": "markdown",
   "metadata": {},
   "source": [
    "## Visualize"
   ]
  },
  {
   "cell_type": "code",
   "execution_count": null,
   "metadata": {},
   "outputs": [],
   "source": [
    "#export\n",
    "def show_pred(im, pred, mask_thresh=.5, ax=None):\n",
    "    # TODO: Implement mask and keypoint\n",
    "    bboxes,masks,kpts = None,None,None\n",
    "    if 'boxes' in pred: bboxes = [BBox.from_xyxy(*o) for o in pred['boxes']]\n",
    "    if 'masks' in pred: masks = Mask(to_np((pred['masks']>.5).long()[:,0,:,:]))\n",
    "    return show_annot(im, bboxes=bboxes, masks=masks, ax=ax)"
   ]
  },
  {
   "cell_type": "code",
   "execution_count": null,
   "metadata": {},
   "outputs": [],
   "source": [
    "#export\n",
    "def show_preds(ims, preds, mask_thresh=.5):\n",
    "    return grid2([partial(show_pred,im=im,pred=pred,mask_thresh=mask_thresh)\n",
    "                  for im,pred in zip(ims,preds)])"
   ]
  },
  {
   "cell_type": "markdown",
   "metadata": {},
   "source": [
    "# Export"
   ]
  },
  {
   "cell_type": "code",
   "execution_count": null,
   "metadata": {},
   "outputs": [
    {
     "name": "stdout",
     "output_type": "stream",
     "text": [
      "Converted 00a_core.ipynb.\n",
      "Converted 00b_lightning_core.ipynb.\n",
      "Converted 01_layers.ipynb.\n",
      "Converted 02_data.core.ipynb.\n",
      "Converted 04_data.annotations.ipynb.\n",
      "Converted 06_data.load.ipynb.\n",
      "Converted 07_transforms.ipynb.\n",
      "Converted 08_models.ipynb.\n",
      "Converted 09_learner.ipynb.\n",
      "Converted 11_metrics.core.ipynb.\n",
      "Converted Untitled.ipynb.\n",
      "Converted Untitled1.ipynb.\n",
      "Converted data_refactor.ipynb.\n",
      "Converted index.ipynb.\n"
     ]
    }
   ],
   "source": [
    "from nbdev.export import notebook2script\n",
    "notebook2script()"
   ]
  },
  {
   "cell_type": "code",
   "execution_count": null,
   "metadata": {},
   "outputs": [],
   "source": []
  }
 ],
 "metadata": {
  "kernelspec": {
   "display_name": "Python 3",
   "language": "python",
   "name": "python3"
  }
 },
 "nbformat": 4,
 "nbformat_minor": 4
}
