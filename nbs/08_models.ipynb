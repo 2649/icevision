{
 "cells": [
  {
   "cell_type": "code",
   "execution_count": null,
   "metadata": {},
   "outputs": [],
   "source": [
    "#default_exp models"
   ]
  },
  {
   "cell_type": "code",
   "execution_count": null,
   "metadata": {},
   "outputs": [],
   "source": [
    "#export\n",
    "from mantisshrimp.imports import *\n",
    "from mantisshrimp.core import *\n",
    "from mantisshrimp.data.all import *"
   ]
  },
  {
   "cell_type": "markdown",
   "metadata": {},
   "source": [
    "<h1>Table of Contents<span class=\"tocSkip\"></span></h1>\n",
    "<div class=\"toc\"><ul class=\"toc-item\"><li><span><a href=\"#Models\" data-toc-modified-id=\"Models-1\"><span class=\"toc-item-num\">1&nbsp;&nbsp;</span>Models</a></span><ul class=\"toc-item\"><li><span><a href=\"#Predict\" data-toc-modified-id=\"Predict-1.1\"><span class=\"toc-item-num\">1.1&nbsp;&nbsp;</span>Predict</a></span></li><li><span><a href=\"#Visualize\" data-toc-modified-id=\"Visualize-1.2\"><span class=\"toc-item-num\">1.2&nbsp;&nbsp;</span>Visualize</a></span></li></ul></li><li><span><a href=\"#Export\" data-toc-modified-id=\"Export-2\"><span class=\"toc-item-num\">2&nbsp;&nbsp;</span>Export</a></span></li></ul></div>"
   ]
  },
  {
   "cell_type": "markdown",
   "metadata": {},
   "source": [
    "# Models\n",
    "> Models for object detection"
   ]
  },
  {
   "cell_type": "code",
   "execution_count": null,
   "metadata": {},
   "outputs": [],
   "source": [
    "#export\n",
    "# TODO: How to properly inject coco_evaluator? A callback/metric?\n",
    "class RCNNModel(LightningModule):\n",
    "    def __init__(self, n_class):\n",
    "        super().__init__()\n",
    "        self.m = self.create_model(n_class)\n",
    "        \n",
    "    def create_model(self, n_class, h=256): raise NotImplementedError\n",
    "        \n",
    "    def forward(self, x): return self.m(x)\n",
    "    \n",
    "    def training_step(self, b, b_idx):\n",
    "        x,y = b\n",
    "        losses = self.m(x,list(y))\n",
    "        loss = sum(losses.values())\n",
    "        return {'loss': loss, 'log': {'avg_loss': loss, **losses}}\n",
    "    \n",
    "    def validation_step(self, b, b_idx):\n",
    "        xb,yb = b\n",
    "        with torch.no_grad(): preds = self(xb)\n",
    "        preds = [{k:v.to(torch.device('cpu')) for k,v in p.items()} for p in preds]\n",
    "        res = {y[\"image_id\"].item():pred for y,pred in zip(yb, preds)}\n",
    "        self.coco_evaluator.update(res)\n",
    "        \n",
    "    def validation_epoch_end(self, outs):\n",
    "        self.coco_evaluator.synchronize_between_processes()\n",
    "        self.coco_evaluator.accumulate()\n",
    "        self.coco_evaluator.summarize()\n",
    "        return {}\n",
    "        \n",
    "    \n",
    "    def configure_optimizers(self):\n",
    "        params = [p for p in self.parameters() if p.requires_grad]\n",
    "        opt = torch.optim.SGD(params, 5e-3, momentum=0.9, weight_decay=0.0005)\n",
    "        step_lr = torch.optim.lr_scheduler.StepLR(opt, step_size=3, gamma=0.1)\n",
    "        return [opt], [step_lr]"
   ]
  },
  {
   "cell_type": "code",
   "execution_count": null,
   "metadata": {},
   "outputs": [],
   "source": [
    "#export\n",
    "class MaskRCNNModel(RCNNModel):\n",
    "    def create_model(self, n_class, h=256):\n",
    "        model = torchvision.models.detection.maskrcnn_resnet50_fpn(pretrained=True)\n",
    "        in_features = model.roi_heads.box_predictor.cls_score.in_features\n",
    "        model.roi_heads.box_predictor = FastRCNNPredictor(in_features, n_class)\n",
    "        in_features_mask = model.roi_heads.mask_predictor.conv5_mask.in_channels\n",
    "        model.roi_heads.mask_predictor = MaskRCNNPredictor(in_features_mask, h, n_class)\n",
    "        return model"
   ]
  },
  {
   "cell_type": "code",
   "execution_count": null,
   "metadata": {},
   "outputs": [],
   "source": [
    "#export\n",
    "class FastRCNNModel(RCNNModel):\n",
    "    def create_model(self, n_class, h=256):\n",
    "        model = torchvision.models.detection.fasterrcnn_resnet50_fpn(pretrained=True)\n",
    "        in_features = model.roi_heads.box_predictor.cls_score.in_features\n",
    "        model.roi_heads.box_predictor = FastRCNNPredictor(in_features, n_class)\n",
    "        return model"
   ]
  },
  {
   "cell_type": "markdown",
   "metadata": {},
   "source": [
    "## Predict"
   ]
  },
  {
   "cell_type": "code",
   "execution_count": null,
   "metadata": {},
   "outputs": [],
   "source": [
    "#export\n",
    "@patch\n",
    "def predict(self:RCNNModel, ims=None, rs=None):\n",
    "    if bool(ims)==bool(rs): raise ValueError('You should either pass ims or rs')\n",
    "    if notnone(rs): ims = [open_img(o.iinfo.fp) for o in rs]\n",
    "    xs = [im2tensor(o).to(model_device(self)) for o in ims]\n",
    "    self.eval()\n",
    "    return ims, self(xs)"
   ]
  },
  {
   "cell_type": "markdown",
   "metadata": {},
   "source": [
    "## Visualize"
   ]
  },
  {
   "cell_type": "code",
   "execution_count": null,
   "metadata": {},
   "outputs": [],
   "source": [
    "#export\n",
    "def show_pred(im, pred, ax=None):\n",
    "    # TODO: Implement mask and keypoint\n",
    "    bboxes = [BBox.from_xyxy(*o) for o in pred['boxes']]\n",
    "    return show_annot(im, bboxes=bboxes, ax=ax)"
   ]
  },
  {
   "cell_type": "code",
   "execution_count": null,
   "metadata": {},
   "outputs": [],
   "source": [
    "#export\n",
    "def show_preds(ims, preds):\n",
    "    return grid2([partial(show_pred,im=im,pred=pred) for im,pred in zip(ims,preds)])"
   ]
  },
  {
   "cell_type": "markdown",
   "metadata": {},
   "source": [
    "# Export"
   ]
  },
  {
   "cell_type": "code",
   "execution_count": null,
   "metadata": {},
   "outputs": [
    {
     "name": "stdout",
     "output_type": "stream",
     "text": [
      "Converted 00_core.ipynb.\n",
      "Converted 02_data.core.ipynb.\n",
      "Converted 04_data.annotations.ipynb.\n",
      "Converted 06_transforms.ipynb.\n",
      "Converted 07_data.load.ipynb.\n",
      "Converted 08_models.ipynb.\n",
      "Converted 11_evaluation.coco.ipynb.\n",
      "Converted Untitled.ipynb.\n",
      "Converted Untitled1.ipynb.\n",
      "Converted index.ipynb.\n"
     ]
    }
   ],
   "source": [
    "from nbdev.export import notebook2script\n",
    "notebook2script()"
   ]
  }
 ],
 "metadata": {
  "kernelspec": {
   "display_name": "Python 3",
   "language": "python",
   "name": "python3"
  }
 },
 "nbformat": 4,
 "nbformat_minor": 4
}
