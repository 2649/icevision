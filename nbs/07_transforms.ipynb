{
 "cells": [
  {
   "cell_type": "markdown",
   "metadata": {},
   "source": [
    "<h1>Table of Contents<span class=\"tocSkip\"></span></h1>\n",
    "<div class=\"toc\"><ul class=\"toc-item\"><li><span><a href=\"#Transform\" data-toc-modified-id=\"Transform-1\"><span class=\"toc-item-num\">1&nbsp;&nbsp;</span>Transform</a></span><ul class=\"toc-item\"><li><span><a href=\"#Export--\" data-toc-modified-id=\"Export---1.1\"><span class=\"toc-item-num\">1.1&nbsp;&nbsp;</span>Export -</a></span></li></ul></li></ul></div>"
   ]
  },
  {
   "cell_type": "code",
   "execution_count": null,
   "metadata": {},
   "outputs": [],
   "source": [
    "#default_exp transforms"
   ]
  },
  {
   "cell_type": "code",
   "execution_count": null,
   "metadata": {},
   "outputs": [],
   "source": [
    "#export\n",
    "from mantisshrimp.imports import *\n",
    "from mantisshrimp.core import *\n",
    "from mantisshrimp.data.all import *"
   ]
  },
  {
   "cell_type": "markdown",
   "metadata": {},
   "source": [
    "# Transform\n",
    "> Trasformers"
   ]
  },
  {
   "cell_type": "code",
   "execution_count": null,
   "metadata": {},
   "outputs": [],
   "source": [
    "#export\n",
    "class Tfm:\n",
    "    def __init__(self, tfms): self.tfms = tfms\n",
    "    def __call__(self, item):\n",
    "        tfmed = self.apply(**item.asdict())\n",
    "        return item.replace(**tfmed)"
   ]
  },
  {
   "cell_type": "code",
   "execution_count": null,
   "metadata": {},
   "outputs": [],
   "source": [
    "#export\n",
    "class AlbuTfm(Tfm):\n",
    "    def __init__(self, tfms):\n",
    "        self.bbox_params=A.BboxParams(format='pascal_voc', label_fields=['labels'])\n",
    "        super().__init__(tfms=A.Compose(tfms, bbox_params=self.bbox_params))\n",
    "\n",
    "    def apply(self, img, labels, bboxes=None, masks=None, iscrowds=None, **kwargs):\n",
    "        # Substitue labels with list of idxs, so we can also filter out iscrowd in case any bbox is removed \n",
    "        # TODO: Same should be done if a mask is completely removed from the image (if bbox is not given)\n",
    "        d = self.tfms(image=img, labels=list(range_of(labels)),\n",
    "                      masks=masks.data if masks else None,\n",
    "                      bboxes=lmap(lambda o: o.xyxy, bboxes))\n",
    "        return {\n",
    "            'img': d['image'],\n",
    "            'labels': [labels[i] for i in d['labels']],\n",
    "            'bboxes': lmap(lambda o: BBox.from_xyxy(*o), d['bboxes']),\n",
    "            'masks': ifnotnone(d['masks'], lambda o: Mask(np.stack(o))),\n",
    "            'iscrowds': lmap(iscrowds.__getitem__, d['labels']),\n",
    "        }"
   ]
  },
  {
   "cell_type": "code",
   "execution_count": null,
   "metadata": {},
   "outputs": [
    {
     "data": {
      "application/vnd.jupyter.widget-view+json": {
       "model_id": "4d05f3cbacbd43c39476e4f953e17aa7",
       "version_major": 2,
       "version_minor": 0
      },
      "text/plain": [
       "HBox(children=(FloatProgress(value=0.0, max=5.0), HTML(value='')))"
      ]
     },
     "metadata": {},
     "output_type": "display_data"
    },
    {
     "name": "stdout",
     "output_type": "stream",
     "text": [
      "\n"
     ]
    },
    {
     "data": {
      "application/vnd.jupyter.widget-view+json": {
       "model_id": "a8baaa7b1d724b03bc3978602982aef1",
       "version_major": 2,
       "version_minor": 0
      },
      "text/plain": [
       "HBox(children=(FloatProgress(value=0.0, max=36.0), HTML(value='')))"
      ]
     },
     "metadata": {},
     "output_type": "display_data"
    },
    {
     "name": "stdout",
     "output_type": "stream",
     "text": [
      "\n",
      "Removed 0 images that don't have annotations\n"
     ]
    }
   ],
   "source": [
    "catmap,train_rs,valid_rs = test_utils.sample_records()"
   ]
  },
  {
   "cell_type": "code",
   "execution_count": null,
   "metadata": {},
   "outputs": [],
   "source": [
    "tfm = AlbuTfm([A.HorizontalFlip(p=1.)])\n",
    "ds = Dataset(train_rs)\n",
    "tfm_ds = Dataset(train_rs, tfm=tfm)"
   ]
  },
  {
   "cell_type": "code",
   "execution_count": null,
   "metadata": {},
   "outputs": [],
   "source": [
    "item = ds[0]\n",
    "tfmed = tfm_ds[0]\n",
    "test_eq(tfmed.img, item.img[:,::-1,:])"
   ]
  },
  {
   "cell_type": "code",
   "execution_count": null,
   "metadata": {},
   "outputs": [],
   "source": [
    "tfm = AlbuTfm([A.CenterCrop(100, 100, p=1.)])\n",
    "tfm_ds = Dataset(train_rs, tfm=tfm)\n",
    "tfmed = tfm_ds[0]\n",
    "test_eq(len(tfmed.bboxes), 2)\n",
    "test_eq(len(tfmed.iscrowds), 2)"
   ]
  },
  {
   "cell_type": "markdown",
   "metadata": {},
   "source": [
    "## Export -"
   ]
  },
  {
   "cell_type": "code",
   "execution_count": null,
   "metadata": {},
   "outputs": [
    {
     "name": "stdout",
     "output_type": "stream",
     "text": [
      "Converted 00_core.ipynb.\n",
      "Converted 02_data.core.ipynb.\n",
      "Converted 04_data.annotations.ipynb.\n",
      "Converted 06_data.load.ipynb.\n",
      "Converted 07_transforms.ipynb.\n",
      "Converted 08_models.ipynb.\n",
      "Converted 11_metrics.core.ipynb.\n",
      "Converted Untitled.ipynb.\n",
      "Converted Untitled1.ipynb.\n",
      "Converted data_refactor.ipynb.\n",
      "Converted index.ipynb.\n"
     ]
    }
   ],
   "source": [
    "from nbdev.export import notebook2script\n",
    "notebook2script()"
   ]
  }
 ],
 "metadata": {
  "kernelspec": {
   "display_name": "Python 3",
   "language": "python",
   "name": "python3"
  }
 },
 "nbformat": 4,
 "nbformat_minor": 4
}
