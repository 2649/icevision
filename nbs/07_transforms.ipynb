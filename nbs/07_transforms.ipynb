{
 "cells": [
  {
   "cell_type": "code",
   "execution_count": null,
   "metadata": {},
   "outputs": [],
   "source": [
    "#default_exp transforms"
   ]
  },
  {
   "cell_type": "code",
   "execution_count": null,
   "metadata": {},
   "outputs": [],
   "source": [
    "#export\n",
    "from mantisshrimp.imports import *\n",
    "from mantisshrimp.core import *\n",
    "from mantisshrimp.data.all import *"
   ]
  },
  {
   "cell_type": "markdown",
   "metadata": {},
   "source": [
    "# Transform\n",
    "> Trasformers"
   ]
  },
  {
   "cell_type": "code",
   "execution_count": null,
   "metadata": {},
   "outputs": [],
   "source": [
    "#export\n",
    "class Tfm:\n",
    "    def __init__(self, tfms): self.tfms = tfms\n",
    "    def __call__(self, item):\n",
    "        tfmed = self.apply(**item.asdict())\n",
    "        return item.replace(**tfmed)"
   ]
  },
  {
   "cell_type": "code",
   "execution_count": null,
   "metadata": {},
   "outputs": [],
   "source": [
    "#export\n",
    "class AlbuTfm(Tfm):\n",
    "    def __init__(self, tfms):\n",
    "        self.bbox_params=A.BboxParams(format='pascal_voc', label_fields=['labels'])\n",
    "        super().__init__(tfms=A.Compose(tfms, bbox_params=self.bbox_params))\n",
    "\n",
    "    def apply(self, img, labels, bboxes=None, masks=None, **kwargs):\n",
    "        d = self.tfms(image=img, labels=labels,\n",
    "                      masks=masks.data if masks else None,\n",
    "                      bboxes=lmap(lambda o: o.xyxy, bboxes))\n",
    "        return {\n",
    "            'img': d['image'], 'labels': d['labels'],\n",
    "            'bboxes': lmap(lambda o: BBox.from_xyxy(*o), d['bboxes']),\n",
    "            'masks': ifnotnone(d['masks'], lambda o: Mask(np.stack(o))),\n",
    "        }"
   ]
  },
  {
   "cell_type": "code",
   "execution_count": null,
   "metadata": {},
   "outputs": [
    {
     "data": {
      "application/vnd.jupyter.widget-view+json": {
       "model_id": "9aef73d273b744dc92d3fa8fd5fbcaea",
       "version_major": 2,
       "version_minor": 0
      },
      "text/plain": [
       "HBox(children=(FloatProgress(value=0.0, max=5.0), HTML(value='')))"
      ]
     },
     "metadata": {},
     "output_type": "display_data"
    },
    {
     "name": "stdout",
     "output_type": "stream",
     "text": [
      "\n"
     ]
    },
    {
     "data": {
      "application/vnd.jupyter.widget-view+json": {
       "model_id": "c9b18f82f9ce4f51b199bdac41f6348a",
       "version_major": 2,
       "version_minor": 0
      },
      "text/plain": [
       "HBox(children=(FloatProgress(value=0.0, max=36.0), HTML(value='')))"
      ]
     },
     "metadata": {},
     "output_type": "display_data"
    },
    {
     "name": "stdout",
     "output_type": "stream",
     "text": [
      "\n",
      "Removed 0 images that don't have annotations\n"
     ]
    }
   ],
   "source": [
    "catmap,train_rs,valid_rs = test_utils.sample_records()"
   ]
  },
  {
   "cell_type": "code",
   "execution_count": null,
   "metadata": {},
   "outputs": [],
   "source": [
    "tfm = AlbuTfm([A.HorizontalFlip(p=1.)])\n",
    "ds = Dataset(train_rs)\n",
    "tfm_ds = Dataset(train_rs, tfm=tfm)"
   ]
  },
  {
   "cell_type": "code",
   "execution_count": null,
   "metadata": {},
   "outputs": [],
   "source": [
    "test_eq(tfm_ds[0].img, ds[0].img[:,::-1,:])"
   ]
  },
  {
   "cell_type": "markdown",
   "metadata": {},
   "source": [
    "## Export -"
   ]
  },
  {
   "cell_type": "code",
   "execution_count": null,
   "metadata": {},
   "outputs": [
    {
     "name": "stdout",
     "output_type": "stream",
     "text": [
      "Converted 00_core.ipynb.\n",
      "Converted 02_data.core.ipynb.\n",
      "Converted 04_data.annotations.ipynb.\n",
      "Converted 06_data.load.ipynb.\n",
      "Converted 07_transforms.ipynb.\n",
      "Converted 08_models.ipynb.\n",
      "Converted 11_metrics.core.ipynb.\n",
      "Converted Untitled.ipynb.\n",
      "Converted Untitled1.ipynb.\n",
      "Converted data_refactor.ipynb.\n",
      "Converted index.ipynb.\n"
     ]
    }
   ],
   "source": [
    "from nbdev.export import notebook2script\n",
    "notebook2script()"
   ]
  }
 ],
 "metadata": {
  "kernelspec": {
   "display_name": "Python 3",
   "language": "python",
   "name": "python3"
  }
 },
 "nbformat": 4,
 "nbformat_minor": 4
}
